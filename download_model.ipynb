{
 "cells": [
  {
   "cell_type": "code",
   "execution_count": 1,
   "metadata": {},
   "outputs": [],
   "source": [
    "import os\n",
    "os.environ['HF_ENDPOINT']='https://hf-mirror.com'\n"
   ]
  },
  {
   "cell_type": "code",
   "execution_count": 3,
   "metadata": {},
   "outputs": [
    {
     "name": "stdout",
     "output_type": "stream",
     "text": [
      "\u001b[33m⚠️  Warning: 'huggingface-cli download' is deprecated. Use 'hf download' instead.\u001b[0m\n"
     ]
    },
    {
     "name": "stderr",
     "output_type": "stream",
     "text": [
      "/home/xrxrxlinux/miniconda3/envs/llm_env/lib/python3.12/site-packages/huggingface_hub/file_download.py:945: FutureWarning: `resume_download` is deprecated and will be removed in version 1.0.0. Downloads always resume when possible. If you want to force a new download, use `force_download=True`.\n",
      "  warnings.warn(\n",
      "Fetching 10 files:   0%|          | 0/10 [00:00<?, ?it/s]Still waiting to acquire lock on /home/xrxrxlinux/model/Qwen/Qwen3-0.6B/.cache/huggingface/.gitignore.lock (elapsed: 0.1 seconds)\n",
      "Downloading 'LICENSE' to '/home/xrxrxlinux/model/Qwen/Qwen3-0.6B/.cache/huggingface/download/DhCjcNQuMpl4FL346qr3tvNUCgY=.6634c8cc3133b3848ec74b9f275acaaa1ea618ab.incomplete'\n",
      "Downloading 'model.safetensors' to '/home/xrxrxlinux/model/Qwen/Qwen3-0.6B/.cache/huggingface/download/xGOKKLRSlIhH692hSVvI1-gpoa8=.f47f71177f32bcd101b7573ec9171e6a57f4f4d31148d38e382306f42996874b.incomplete'\n",
      "Downloading '.gitattributes' to '/home/xrxrxlinux/model/Qwen/Qwen3-0.6B/.cache/huggingface/download/wPaCkH-WbT7GsmxMKKrNZTV4nSM=.52373fe24473b1aa44333d318f578ae6bf04b49b.incomplete'\n",
      "Download complete. Moving file to /home/xrxrxlinux/model/Qwen/Qwen3-0.6B/LICENSE\n",
      "Downloading 'merges.txt' to '/home/xrxrxlinux/model/Qwen/Qwen3-0.6B/.cache/huggingface/download/PtHk0z_I45atnj23IIRhTExwT3w=.31349551d90c7606f325fe0f11bbb8bd5fa0d7c7.incomplete'\n",
      "Download complete. Moving file to /home/xrxrxlinux/model/Qwen/Qwen3-0.6B/.gitattributes\n",
      "Fetching 10 files:  10%|█         | 1/10 [00:00<00:05,  1.55it/s]Downloading 'tokenizer.json' to '/home/xrxrxlinux/model/Qwen/Qwen3-0.6B/.cache/huggingface/download/HgM_lKo9sdSCfRtVg7MMFS7EKqo=.aeb13307a71acd8fe81861d94ad54ab689df773318809eed3cbe794b4492dae4.incomplete'\n",
      "Downloading 'config.json' to '/home/xrxrxlinux/model/Qwen/Qwen3-0.6B/.cache/huggingface/download/8_PA_wEVGiVa2goH2H4KQOQpvVY=.f5c3703b78ae2a478ae15b247e9f855e0ce2107b.incomplete'\n",
      "Downloading 'generation_config.json' to '/home/xrxrxlinux/model/Qwen/Qwen3-0.6B/.cache/huggingface/download/3EVKVggOldJcKSsGjSdoUCN1AyQ=.20a8a9156fc8c3f25295ca067f61fdf120d517c5.incomplete'\n",
      "Downloading 'README.md' to '/home/xrxrxlinux/model/Qwen/Qwen3-0.6B/.cache/huggingface/download/Xn7B-BWUGOee2Y6hCZtEhtFu4BE=.a50b19e76f5274f9ec99f5a5d99873dca5bff25e.incomplete'\n",
      "Download complete. Moving file to /home/xrxrxlinux/model/Qwen/Qwen3-0.6B/config.json\n",
      "Downloading 'vocab.json' to '/home/xrxrxlinux/model/Qwen/Qwen3-0.6B/.cache/huggingface/download/j3m-Hy6QvBddw8RXA1uSWl1AJ0c=.4783fe10ac3adce15ac8f358ef5462739852c569.incomplete'\n",
      "Download complete. Moving file to /home/xrxrxlinux/model/Qwen/Qwen3-0.6B/generation_config.json\n",
      "Download complete. Moving file to /home/xrxrxlinux/model/Qwen/Qwen3-0.6B/README.md\n",
      "Fetching 10 files:  30%|███       | 3/10 [00:01<00:03,  1.89it/s]Download complete. Moving file to /home/xrxrxlinux/model/Qwen/Qwen3-0.6B/merges.txt\n",
      "Downloading 'tokenizer_config.json' to '/home/xrxrxlinux/model/Qwen/Qwen3-0.6B/.cache/huggingface/download/vzaExXFZNBay89bvlQv-ZcI6BTg=.417d038a63fa3de29cfde265caedae14d1a58d92.incomplete'\n",
      "Download complete. Moving file to /home/xrxrxlinux/model/Qwen/Qwen3-0.6B/tokenizer_config.json\n",
      "Download complete. Moving file to /home/xrxrxlinux/model/Qwen/Qwen3-0.6B/vocab.json\n",
      "Download complete. Moving file to /home/xrxrxlinux/model/Qwen/Qwen3-0.6B/tokenizer.json\n"
     ]
    },
    {
     "name": "stdout",
     "output_type": "stream",
     "text": [
      "/home/xrxrxlinux/model/Qwen/Qwen3-0.6B\n"
     ]
    },
    {
     "name": "stderr",
     "output_type": "stream",
     "text": [
      "Download complete. Moving file to /home/xrxrxlinux/model/Qwen/Qwen3-0.6B/model.safetensors\n",
      "Fetching 10 files: 100%|██████████| 10/10 [01:38<00:00,  9.90s/it]\n"
     ]
    },
    {
     "data": {
      "text/plain": [
       "0"
      ]
     },
     "execution_count": 3,
     "metadata": {},
     "output_type": "execute_result"
    }
   ],
   "source": [
    "os.system('huggingface-cli download --resume-download Qwen/Qwen3-0.6B --local-dir /home/xrxrxlinux/model/Qwen/Qwen3-0.6B')"
   ]
  },
  {
   "cell_type": "code",
   "execution_count": null,
   "metadata": {},
   "outputs": [],
   "source": []
  }
 ],
 "metadata": {
  "kernelspec": {
   "display_name": "llm_env",
   "language": "python",
   "name": "python3"
  },
  "language_info": {
   "codemirror_mode": {
    "name": "ipython",
    "version": 3
   },
   "file_extension": ".py",
   "mimetype": "text/x-python",
   "name": "python",
   "nbconvert_exporter": "python",
   "pygments_lexer": "ipython3",
   "version": "3.12.11"
  }
 },
 "nbformat": 4,
 "nbformat_minor": 2
}
